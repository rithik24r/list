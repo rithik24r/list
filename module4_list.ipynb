{
  "nbformat": 4,
  "nbformat_minor": 0,
  "metadata": {
    "colab": {
      "name": "Untitled4.ipynb",
      "provenance": []
    },
    "kernelspec": {
      "name": "python3",
      "display_name": "Python 3"
    }
  },
  "cells": [
    {
      "cell_type": "code",
      "metadata": {
        "id": "8bx-biLvMXlG",
        "colab_type": "code",
        "colab": {
          "base_uri": "https://localhost:8080/",
          "height": 54
        },
        "outputId": "0ce6df6c-b444-4bc3-8dc2-63ebbe55bd5a"
      },
      "source": [
        "def mul(list):\n",
        "      result=1\n",
        "      for x in list: \n",
        "                     result=result*x\n",
        "      return result\n",
        "list1=[1,2,3]\n",
        "list2=[3,2,4]\n",
        "print(mul(list1))\n",
        "print(mul(list2))"
      ],
      "execution_count": 1,
      "outputs": [
        {
          "output_type": "stream",
          "text": [
            "6\n",
            "24\n"
          ],
          "name": "stdout"
        }
      ]
    },
    {
      "cell_type": "code",
      "metadata": {
        "id": "gNIFvWnOPgk9",
        "colab_type": "code",
        "colab": {
          "base_uri": "https://localhost:8080/",
          "height": 164
        },
        "outputId": "af7bc1ef-823a-464d-c70c-cbb37d41086e"
      },
      "source": [
        "lst=[]\n",
        "num=int(input('how many numbers'))\n",
        "for n in range(num):\n",
        "                    numbers=int(input(\"enter number\"))\n",
        "                    lst.append(numbers)\n",
        "print(\"maximum element in the list is\",max(lst))\n",
        "print(\"minimum element in the list is\",min(lst))"
      ],
      "execution_count": 6,
      "outputs": [
        {
          "output_type": "stream",
          "text": [
            "how many numbers5\n",
            "enter number20\n",
            "enter number30\n",
            "enter number0\n",
            "enter number8\n",
            "enter number09\n",
            "maximum element in the list is 30\n",
            "minimum element in the list is 0\n"
          ],
          "name": "stdout"
        }
      ]
    },
    {
      "cell_type": "code",
      "metadata": {
        "id": "PndInUN1Rj32",
        "colab_type": "code",
        "colab": {
          "base_uri": "https://localhost:8080/",
          "height": 35
        },
        "outputId": "babd7f9a-f022-4b02-ac52-db26e0248ccd"
      },
      "source": [
        "a=[10,20,30,40,50,10,80,70,60,20,30]\n",
        "dup=set()\n",
        "uniq=[]\n",
        "for x in a:\n",
        "           if x not in dup:\n",
        "                            uniq.append(x)\n",
        "                            dup.add(x)\n",
        "print(dup)"
      ],
      "execution_count": 7,
      "outputs": [
        {
          "output_type": "stream",
          "text": [
            "{70, 40, 10, 80, 50, 20, 60, 30}\n"
          ],
          "name": "stdout"
        }
      ]
    },
    {
      "cell_type": "code",
      "metadata": {
        "id": "vgPCHThKRWMd",
        "colab_type": "code",
        "colab": {
          "base_uri": "https://localhost:8080/",
          "height": 35
        },
        "outputId": "1b30ca25-6d14-45bb-c55e-e26270d34eac"
      },
      "source": [
        "mylst=[]\n",
        "mylist=list()\n",
        "if len(mylst)==0:\n",
        "                  print(\"list is empty\")\n",
        "else:\n",
        "                  print(\"list is not empty\")"
      ],
      "execution_count": 9,
      "outputs": [
        {
          "output_type": "stream",
          "text": [
            "list is empty\n"
          ],
          "name": "stdout"
        }
      ]
    },
    {
      "cell_type": "code",
      "metadata": {
        "id": "rwjGg-hhTUZE",
        "colab_type": "code",
        "colab": {
          "base_uri": "https://localhost:8080/",
          "height": 35
        },
        "outputId": "a5e6007f-73bb-4d60-f804-467f6c68cd6b"
      },
      "source": [
        "from random import shuffle\n",
        "color=['red','green','yellow']\n",
        "shuffle(color)\n",
        "print(color)"
      ],
      "execution_count": 10,
      "outputs": [
        {
          "output_type": "stream",
          "text": [
            "['red', 'yellow', 'green']\n"
          ],
          "name": "stdout"
        }
      ]
    },
    {
      "cell_type": "code",
      "metadata": {
        "id": "-sw-4BczUMQd",
        "colab_type": "code",
        "colab": {
          "base_uri": "https://localhost:8080/",
          "height": 35
        },
        "outputId": "e0a3e2fa-1e1c-4418-b737-213a13f130f9"
      },
      "source": [
        "def dif(li1,li2):\n",
        "          return(list(set(li1)-set(li2)))\n",
        "li1=[10,20,30]\n",
        "li2=[25,40,35]\n",
        "print(dif(li1,li2))"
      ],
      "execution_count": 14,
      "outputs": [
        {
          "output_type": "stream",
          "text": [
            "[10, 20, 30]\n"
          ],
          "name": "stdout"
        }
      ]
    }
  ]
}